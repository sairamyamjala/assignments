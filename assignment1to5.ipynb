{
 "cells": [
  {
   "cell_type": "code",
   "execution_count": 2,
   "metadata": {},
   "outputs": [
    {
     "name": "stdout",
     "output_type": "stream",
     "text": [
      "hello world 67\n"
     ]
    }
   ],
   "source": [
    "#HELLO WORLD\n",
    "print(\"hello world 67\")"
   ]
  },
  {
   "cell_type": "code",
   "execution_count": 4,
   "metadata": {},
   "outputs": [
    {
     "name": "stdout",
     "output_type": "stream",
     "text": [
      "2002,2009,2016,2023,2037,2044,2051,2058,2072,2079,2086,2093,2107,2114,2121,2128,2142,2149,2156,2163,2177,2184,2191,2198,2212,2219,2226,2233,2247,2254,2261,2268,2282,2289,2296,2303,2317,2324,2331,2338,2352,2359,2366,2373,2387,2394,2401,2408,2422,2429,2436,2443,2457,2464,2471,2478,2492,2499,2506,2513,2527,2534,2541,2548,2562,2569,2576,2583,2597,2604,2611,2618,2632,2639,2646,2653,2667,2674,2681,2688,2702,2709,2716,2723,2737,2744,2751,2758,2772,2779,2786,2793,2807,2814,2821,2828,2842,2849,2856,2863,2877,2884,2891,2898,2912,2919,2926,2933,2947,2954,2961,2968,2982,2989,2996,3003,3017,3024,3031,3038,3052,3059,3066,3073,3087,3094,3101,3108,3122,3129,3136,3143,3157,3164,3171,3178,3192,3199,\n"
     ]
    }
   ],
   "source": [
    "#number divisible by 7 and not by 5\n",
    "all = \"\"\n",
    "for x in range(2000,3201):\n",
    "    if x%7==0 and x%5!=0:\n",
    "        all+= str(x)+\",\"\n",
    "print(all)        "
   ]
  },
  {
   "cell_type": "code",
   "execution_count": 24,
   "metadata": {},
   "outputs": [
    {
     "name": "stdout",
     "output_type": "stream",
     "text": [
      "enter your first name:sairam\n",
      "enter your last name:yamjala\n",
      "alajmay marias \n"
     ]
    }
   ],
   "source": [
    "# reverse a string\n",
    "firstname = input(\"enter your first name:\")\n",
    "lastname = input(\"enter your last name:\")\n",
    "fullname = firstname+\" \"+lastname\n",
    "revname = \" \"\n",
    "for x in range(0,len(fullname)):\n",
    "    revname = fullname[x]+revname\n",
    "print(revname)"
   ]
  },
  {
   "cell_type": "code",
   "execution_count": 27,
   "metadata": {},
   "outputs": [
    {
     "name": "stdout",
     "output_type": "stream",
     "text": [
      "enter your first name:sai\n",
      "enter your last name:raM\n",
      "Mar ias\n"
     ]
    }
   ],
   "source": [
    "firstname = input(\"enter your first name:\")\n",
    "lastname = input(\"enter your last name:\")\n",
    "fullname = firstname+\" \"+lastname\n",
    "print(fullname[::-1])"
   ]
  },
  {
   "cell_type": "code",
   "execution_count": 31,
   "metadata": {},
   "outputs": [
    {
     "name": "stdout",
     "output_type": "stream",
     "text": [
      "enter the radius:12\n",
      "7232.75136\n"
     ]
    }
   ],
   "source": [
    "# calculate volume of sphere\n",
    "radius = int(input(\"enter the radius:\"))\n",
    "pie = 3.14\n",
    "volume = 1.333*pie*(radius**3)\n",
    "print(volume)"
   ]
  },
  {
   "cell_type": "code",
   "execution_count": 36,
   "metadata": {},
   "outputs": [
    {
     "name": "stdout",
     "output_type": "stream",
     "text": [
      "give a list of numbers:3,4,5,6,3,2,7,8,9\n",
      "['3', '4', '5', '6', '3', '2', '7', '8', '9']\n"
     ]
    }
   ],
   "source": [
    "# program which accepts a sequence of comma-separated numbers from console and generate a list. \n",
    "numbers = input(\"give a list of numbers:\")\n",
    "numberlist = numbers.split(\",\")\n",
    "print(numberlist)"
   ]
  },
  {
   "cell_type": "code",
   "execution_count": null,
   "metadata": {},
   "outputs": [],
   "source": [
    "#### pattern programme###\n",
    "\n"
   ]
  },
  {
   "cell_type": "code",
   "execution_count": null,
   "metadata": {},
   "outputs": [],
   "source": [
    "rows = input(\"Enter max star\")\n",
    "rows = int (rows)\n",
    "for i in range (0, rows):\n",
    "    for j in range(0, i + 1):\n",
    "        print(\"*\", end=' ')\n",
    "    print(\"\\r\")\n",
    "\n",
    "for i in range (rows, 0, -1):\n",
    "    for j in range(0, i -1):\n",
    "        print(\"*\", end=' ')\n",
    "    print(\"\\r\")"
   ]
  },
  {
   "cell_type": "code",
   "execution_count": 58,
   "metadata": {},
   "outputs": [
    {
     "name": "stdout",
     "output_type": "stream",
     "text": [
      "give a word to reverse:sairam\n",
      "marias\n"
     ]
    }
   ],
   "source": [
    "# reverse input from user\n",
    "inputval = input(\"give a word to reverse:\")\n",
    "revvalue = inputval[::-1]\n",
    "print(revvalue)"
   ]
  },
  {
   "cell_type": "code",
   "execution_count": 80,
   "metadata": {},
   "outputs": [
    {
     "name": "stdout",
     "output_type": "stream",
     "text": [
      "WE, THE PEOPLE OF INDIA,\n",
      "     having solemnly resolved to constitute India into a SOVEREIGN,!\n",
      "        SOCIALIST, SECULAR, DEMOCRATIC \n",
      "           REPUBLIC and to secure to all its citizens\n"
     ]
    }
   ],
   "source": [
    "# format specified\n",
    "givenformat = \"WE, THE PEOPLE OF INDIA,\\n \"+'    '+\"having solemnly resolved to constitute India into a SOVEREIGN,\"+\"!\"+\"\\n        SOCIALIST, SECULAR, DEMOCRATIC \\n           REPUBLIC and to secure to all its citizens\"\n",
    "print(givenformat)"
   ]
  },
  {
   "cell_type": "code",
   "execution_count": 5,
   "metadata": {},
   "outputs": [],
   "source": [
    "# Reduce function\n",
    "def add(a,b):\n",
    "    return a+b\n",
    "def max(a,b):\n",
    "    if a>b:\n",
    "        return a\n",
    "    else:\n",
    "        return b\n",
    "def my_reduce(fun,lst):\n",
    "    result = 0\n",
    "    for x in range(0,len(lst)):\n",
    "        b = lst[x]\n",
    "        a = result\n",
    "        result = fun(a,b)\n",
    "    print(result)  \n",
    "        "
   ]
  },
  {
   "cell_type": "code",
   "execution_count": 8,
   "metadata": {},
   "outputs": [
    {
     "name": "stdout",
     "output_type": "stream",
     "text": [
      "24\n"
     ]
    }
   ],
   "source": [
    "my_reduce(add,[2,1,4,5,3,9])"
   ]
  },
  {
   "cell_type": "code",
   "execution_count": 25,
   "metadata": {},
   "outputs": [],
   "source": [
    "#filter function\n",
    "def find_vowel(var):\n",
    "    letters = [\"a\",\"e\",\"i\",\"o\",\"u\"]\n",
    "    if (var in letters):\n",
    "        return \"true\"\n",
    "    else:\n",
    "        return \"false\"\n",
    "def my_filter(fun,lst):\n",
    "    listofvalue = []\n",
    "    for x in lst:\n",
    "        result = fun(x)\n",
    "        if result ==\"true\":\n",
    "            listofvalue.append(x)\n",
    "    for x in listofvalue:\n",
    "        print(x)"
   ]
  },
  {
   "cell_type": "code",
   "execution_count": 26,
   "metadata": {},
   "outputs": [
    {
     "name": "stdout",
     "output_type": "stream",
     "text": [
      "a\n",
      "e\n",
      "i\n",
      "e\n",
      "a\n"
     ]
    }
   ],
   "source": [
    "my_filter(find_vowel,[\"a\",\"e\",\"t\",\"h\",\"i\",\"p\",\"e\",\"a\"])"
   ]
  },
  {
   "cell_type": "code",
   "execution_count": 32,
   "metadata": {},
   "outputs": [
    {
     "name": "stdout",
     "output_type": "stream",
     "text": [
      "['a', 'c', 'a', 'd', 'g', 'i', 'l', 'd']\n"
     ]
    }
   ],
   "source": [
    "letter = [a for a in \"acadgild\"]\n",
    "print(letter)"
   ]
  },
  {
   "cell_type": "code",
   "execution_count": 40,
   "metadata": {},
   "outputs": [
    {
     "name": "stdout",
     "output_type": "stream",
     "text": [
      "['x', 'xx', 'xxx', 'xxxx', 'y', 'yy', 'yyy', 'yyyy', 'z', 'zz', 'zzz', 'zzzz']\n"
     ]
    }
   ],
   "source": [
    "letter = [(x*a) for x in \"xyz\"for a in range(1,5)]\n",
    "print(letter)"
   ]
  },
  {
   "cell_type": "code",
   "execution_count": 57,
   "metadata": {},
   "outputs": [
    {
     "name": "stdout",
     "output_type": "stream",
     "text": [
      "['x', 'y', 'z', 'xx', 'yy', 'zz', 'xxx', 'yyy', 'zzz', 'xxxx', 'yyyy', 'zzzz']\n"
     ]
    }
   ],
   "source": [
    "letter = [(x*a) for a in range(1,5) for x in \"xyz\"]\n",
    "print(letter)"
   ]
  },
  {
   "cell_type": "code",
   "execution_count": 71,
   "metadata": {
    "scrolled": true
   },
   "outputs": [
    {
     "name": "stdout",
     "output_type": "stream",
     "text": [
      "[(1, 1), (2, 1), (3, 1), (1, 2), (2, 2), (3, 2), (1, 3), (2, 3), (3, 3)]\n"
     ]
    }
   ],
   "source": [
    "letter = [(x,a) for a in range(1,4) for x in range(1,4)]\n",
    "print(letter)"
   ]
  },
  {
   "cell_type": "code",
   "execution_count": 61,
   "metadata": {},
   "outputs": [],
   "source": [
    "def longestword(lst):\n",
    "    count = 0\n",
    "    longword = \"\"\n",
    "    for x in lst:\n",
    "        if len(x)>len(longword):\n",
    "            longword = x\n",
    "    print(longword)    \n",
    "            \n",
    "    "
   ]
  },
  {
   "cell_type": "code",
   "execution_count": 63,
   "metadata": {},
   "outputs": [
    {
     "name": "stdout",
     "output_type": "stream",
     "text": [
      "sai kiran\n"
     ]
    }
   ],
   "source": [
    "longestword([\"sai\",\"ram\",\"sai kiran\",\"sairam\",\"nandini\"])"
   ]
  },
  {
   "cell_type": "code",
   "execution_count": 35,
   "metadata": {},
   "outputs": [],
   "source": [
    "class lenofsides:\n",
    "    def __init__(self,aside,bside,cside):\n",
    "        self.a = aside\n",
    "        self.b = bside\n",
    "        self.c = cside"
   ]
  },
  {
   "cell_type": "code",
   "execution_count": 41,
   "metadata": {},
   "outputs": [],
   "source": [
    "class areaoftriangle(lenofsides):\n",
    "    def areaoftriangle1(self):\n",
    "        s = (self.a+self.b+self.c)/2\n",
    "        return (s*(s-self.a)*(s-self.b)*(s-self.c))**0.5\n",
    "        \n"
   ]
  },
  {
   "cell_type": "code",
   "execution_count": 45,
   "metadata": {},
   "outputs": [
    {
     "name": "stdout",
     "output_type": "stream",
     "text": [
      "14.142135623730951\n"
     ]
    }
   ],
   "source": [
    "obj = areaoftriangle(5,6,9)\n",
    "rsult = obj.areaoftriangle1()\n",
    "print(rsult)"
   ]
  },
  {
   "cell_type": "markdown",
   "metadata": {},
   "source": []
  },
  {
   "cell_type": "code",
   "execution_count": 60,
   "metadata": {},
   "outputs": [],
   "source": [
    "def filter_longwords(lst,num):\n",
    "    lngword = []\n",
    "    for x in lst:\n",
    "        if len(x)>num:\n",
    "            lngword.append(x)\n",
    "    \n",
    "    print(lngword)"
   ]
  },
  {
   "cell_type": "code",
   "execution_count": 62,
   "metadata": {},
   "outputs": [
    {
     "name": "stdout",
     "output_type": "stream",
     "text": [
      "['sairam', 'nandy', 'nani']\n"
     ]
    }
   ],
   "source": [
    "filter_longwords([\"ram\",\"sairam\",\"nandy\",\"a\",\"nani\",\"r\"],3)"
   ]
  },
  {
   "cell_type": "code",
   "execution_count": 71,
   "metadata": {},
   "outputs": [],
   "source": [
    "def cal_lenwords(x):\n",
    "    return len(x)"
   ]
  },
  {
   "cell_type": "code",
   "execution_count": 72,
   "metadata": {},
   "outputs": [
    {
     "name": "stdout",
     "output_type": "stream",
     "text": [
      "[3, 6, 5]\n"
     ]
    }
   ],
   "source": [
    "dim = map(cal_lenwords,[\"ram\",\"sairam\",\"nandy\"])\n",
    "print(list(dim))"
   ]
  },
  {
   "cell_type": "code",
   "execution_count": 79,
   "metadata": {},
   "outputs": [],
   "source": [
    "def findvowel(letter):\n",
    "    vowels = [\"a\",\"e\",\"i\",\"o\",\"u\"]\n",
    "    if letter in vowels:\n",
    "        return \"true\"\n",
    "    else:\n",
    "        return \"false\"\n",
    "    \n",
    "    "
   ]
  },
  {
   "cell_type": "code",
   "execution_count": 81,
   "metadata": {},
   "outputs": [
    {
     "data": {
      "text/plain": [
       "'false'"
      ]
     },
     "execution_count": 81,
     "metadata": {},
     "output_type": "execute_result"
    }
   ],
   "source": [
    "findvowel(\"v\")"
   ]
  },
  {
   "cell_type": "code",
   "execution_count": 88,
   "metadata": {},
   "outputs": [],
   "source": [
    "def exception(num):\n",
    "    try:\n",
    "        ans = num/0\n",
    "        return ans\n",
    "    except:\n",
    "        print(\"divide by other than 0\")\n",
    "        ans = num/2\n",
    "        return ans\n",
    "    \n",
    "    "
   ]
  },
  {
   "cell_type": "code",
   "execution_count": 89,
   "metadata": {},
   "outputs": [
    {
     "name": "stdout",
     "output_type": "stream",
     "text": [
      "divide by other than 0\n"
     ]
    },
    {
     "data": {
      "text/plain": [
       "2.5"
      ]
     },
     "execution_count": 89,
     "metadata": {},
     "output_type": "execute_result"
    }
   ],
   "source": [
    "exception(5)"
   ]
  },
  {
   "cell_type": "code",
   "execution_count": 97,
   "metadata": {},
   "outputs": [],
   "source": [
    "def gen_sentence():\n",
    "    sub = [\"Americans\",\"Indians\"]\n",
    "    verbs = [\"play\",\"watch\"]\n",
    "    obj = [\"baseball\",\"Cricket\"]\n",
    "    for x in sub:\n",
    "        for a in verbs:\n",
    "            for b in obj:\n",
    "                print(x+\" \"+a+\" \"+b)\n",
    "    \n",
    "    "
   ]
  },
  {
   "cell_type": "code",
   "execution_count": 98,
   "metadata": {},
   "outputs": [
    {
     "name": "stdout",
     "output_type": "stream",
     "text": [
      "Americans play baseball\n",
      "Americans play Cricket\n",
      "Americans watch baseball\n",
      "Americans watch Cricket\n",
      "Indians play baseball\n",
      "Indians play Cricket\n",
      "Indians watch baseball\n",
      "Indians watch Cricket\n"
     ]
    }
   ],
   "source": [
    "gen_sentence()"
   ]
  },
  {
   "cell_type": "code",
   "execution_count": null,
   "metadata": {},
   "outputs": [],
   "source": []
  }
 ],
 "metadata": {
  "kernelspec": {
   "display_name": "Python 3",
   "language": "python",
   "name": "python3"
  },
  "language_info": {
   "codemirror_mode": {
    "name": "ipython",
    "version": 3
   },
   "file_extension": ".py",
   "mimetype": "text/x-python",
   "name": "python",
   "nbconvert_exporter": "python",
   "pygments_lexer": "ipython3",
   "version": "3.7.1"
  }
 },
 "nbformat": 4,
 "nbformat_minor": 2
}
